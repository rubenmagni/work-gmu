{
 "cells": [
  {
   "cell_type": "markdown",
   "metadata": {},
   "source": [
    "# Multiconsensus Builder"
   ]
  },
  {
   "cell_type": "markdown",
   "metadata": {},
   "source": [
    "The purpose is to build a multiconsensus file from single run files obtained from Peaks Studio so we can load it on Perseus for differential analysis"
   ]
  },
  {
   "cell_type": "code",
   "execution_count": 6,
   "metadata": {},
   "outputs": [],
   "source": [
    "import numpy as np\n",
    "import pandas as pd"
   ]
  },
  {
   "cell_type": "code",
   "execution_count": 2,
   "metadata": {},
   "outputs": [
    {
     "name": "stdout",
     "output_type": "stream",
     "text": [
      "C:\\Users\\rmagni\\Desktop\\GMU\\ASSIP_2020\\Lung Cancer Peaks Human DB multi + NCBI Microbiome DB multi and individual\\for Ruben\\Lung Cancer Tissue NCBI contaminated batch PEAKS run_\\test\\lung_test\\db\n"
     ]
    }
   ],
   "source": [
    "cd C:\\Users\\rmagni\\Desktop\\GMU\\ASSIP_2020\\Lung Cancer Peaks Human DB multi + NCBI Microbiome DB multi and individual\\for Ruben\\Lung Cancer Tissue NCBI contaminated batch PEAKS run_\\test\\lung_test\\db"
   ]
  },
  {
   "cell_type": "code",
   "execution_count": 46,
   "metadata": {},
   "outputs": [],
   "source": [
    "pd1 = pd.read_csv('peptide_5T.csv')\n",
    "pd2 = pd.read_csv('peptide_6ANL.csv')\n",
    "pd3 = pd.read_csv('peptide_6DNL.csv')"
   ]
  },
  {
   "cell_type": "code",
   "execution_count": 47,
   "metadata": {},
   "outputs": [],
   "source": [
    "list_d = [pd1, pd2, pd3]"
   ]
  },
  {
   "cell_type": "code",
   "execution_count": 23,
   "metadata": {},
   "outputs": [],
   "source": [
    "def clean_db(list_):\n",
    "    list_db = []\n",
    "    for db_ in list_:\n",
    "        db_ = db_.iloc[:,[0, 7, 13]]\n",
    "        list_db.append(db_)\n",
    "    return list_db"
   ]
  },
  {
   "cell_type": "code",
   "execution_count": 24,
   "metadata": {},
   "outputs": [],
   "source": [
    "def merging_db(list_db):\n",
    "    df = list_db[0]\n",
    "    for df_ in list_db[1:]:\n",
    "        df = df.merge(df_, on = 'Peptide', how='outer')\n",
    "    return df"
   ]
  },
  {
   "cell_type": "code",
   "execution_count": 50,
   "metadata": {},
   "outputs": [],
   "source": [
    "\n",
    "df_final = merging_db(clean_db(list_d))"
   ]
  },
  {
   "cell_type": "code",
   "execution_count": 51,
   "metadata": {},
   "outputs": [
    {
     "data": {
      "text/plain": [
       "Index(['Peptide', 'Area Sample 3', '#Feature Sample 3', 'Accession_x',\n",
       "       'Area Sample 4', '#Feature Sample 4', 'Accession_y', 'Area Sample 5',\n",
       "       '#Feature Sample 5', 'Accession'],\n",
       "      dtype='object')"
      ]
     },
     "execution_count": 51,
     "metadata": {},
     "output_type": "execute_result"
    }
   ],
   "source": [
    "df_final.columns"
   ]
  },
  {
   "cell_type": "code",
   "execution_count": 60,
   "metadata": {},
   "outputs": [
    {
     "data": {
      "text/html": [
       "<div>\n",
       "<style scoped>\n",
       "    .dataframe tbody tr th:only-of-type {\n",
       "        vertical-align: middle;\n",
       "    }\n",
       "\n",
       "    .dataframe tbody tr th {\n",
       "        vertical-align: top;\n",
       "    }\n",
       "\n",
       "    .dataframe thead th {\n",
       "        text-align: right;\n",
       "    }\n",
       "</style>\n",
       "<table border=\"1\" class=\"dataframe\">\n",
       "  <thead>\n",
       "    <tr style=\"text-align: right;\">\n",
       "      <th></th>\n",
       "      <th>Peptide</th>\n",
       "      <th>Area Sample 3</th>\n",
       "      <th>#Feature Sample 3</th>\n",
       "      <th>Accession_x</th>\n",
       "      <th>Area Sample 4</th>\n",
       "      <th>#Feature Sample 4</th>\n",
       "      <th>Accession_y</th>\n",
       "      <th>Area Sample 5</th>\n",
       "      <th>#Feature Sample 5</th>\n",
       "      <th>Accession</th>\n",
       "    </tr>\n",
       "  </thead>\n",
       "  <tbody>\n",
       "    <tr>\n",
       "      <td>0</td>\n",
       "      <td>GLVEPVDVVDNADGTQTVNYVPSR</td>\n",
       "      <td>14800000.0</td>\n",
       "      <td>2.0</td>\n",
       "      <td>VFV42729.1:VFV42728.1:VFV42730.1</td>\n",
       "      <td>8.330000e+07</td>\n",
       "      <td>2.0</td>\n",
       "      <td>VFV42729.1:VFV42728.1</td>\n",
       "      <td>104000000.0</td>\n",
       "      <td>2.0</td>\n",
       "      <td>VFV42729.1:VFV42728.1</td>\n",
       "    </tr>\n",
       "    <tr>\n",
       "      <td>1</td>\n",
       "      <td>NLHQSGFSLSGAQIDDNIPR</td>\n",
       "      <td>21800000.0</td>\n",
       "      <td>2.0</td>\n",
       "      <td>VFV40282.1:VFV40281.1</td>\n",
       "      <td>9.020000e+06</td>\n",
       "      <td>1.0</td>\n",
       "      <td>VFV40282.1:VFV40281.1</td>\n",
       "      <td>10700000.0</td>\n",
       "      <td>1.0</td>\n",
       "      <td>VFV40282.1:VFV40281.1</td>\n",
       "    </tr>\n",
       "    <tr>\n",
       "      <td>2</td>\n",
       "      <td>LVQDVANNTNEEAGDGTTTATVLAR</td>\n",
       "      <td>7490000.0</td>\n",
       "      <td>2.0</td>\n",
       "      <td>NP_002147.2:NP_955472.1</td>\n",
       "      <td>1.800000e+07</td>\n",
       "      <td>2.0</td>\n",
       "      <td>NP_002147.2:NP_955472.1</td>\n",
       "      <td>40000000.0</td>\n",
       "      <td>2.0</td>\n",
       "      <td>NP_002147.2:NP_955472.1</td>\n",
       "    </tr>\n",
       "    <tr>\n",
       "      <td>3</td>\n",
       "      <td>GDLENAFLNLVQC(+57.02)IQNKPLYFADR</td>\n",
       "      <td>905000000.0</td>\n",
       "      <td>2.0</td>\n",
       "      <td>VFV25874.1</td>\n",
       "      <td>5.220000e+09</td>\n",
       "      <td>2.0</td>\n",
       "      <td>VFV25874.1</td>\n",
       "      <td>346000000.0</td>\n",
       "      <td>2.0</td>\n",
       "      <td>VFV25874.1</td>\n",
       "    </tr>\n",
       "    <tr>\n",
       "      <td>4</td>\n",
       "      <td>VGAIPANALDDGQWSQGLISAAR</td>\n",
       "      <td>1750000.0</td>\n",
       "      <td>1.0</td>\n",
       "      <td>VFV44382.1</td>\n",
       "      <td>5.930000e+06</td>\n",
       "      <td>1.0</td>\n",
       "      <td>VFV44382.1</td>\n",
       "      <td>9730000.0</td>\n",
       "      <td>1.0</td>\n",
       "      <td>VFV44382.1</td>\n",
       "    </tr>\n",
       "    <tr>\n",
       "      <td>...</td>\n",
       "      <td>...</td>\n",
       "      <td>...</td>\n",
       "      <td>...</td>\n",
       "      <td>...</td>\n",
       "      <td>...</td>\n",
       "      <td>...</td>\n",
       "      <td>...</td>\n",
       "      <td>...</td>\n",
       "      <td>...</td>\n",
       "      <td>...</td>\n",
       "    </tr>\n",
       "    <tr>\n",
       "      <td>3406</td>\n",
       "      <td>HELVVQAR</td>\n",
       "      <td>NaN</td>\n",
       "      <td>NaN</td>\n",
       "      <td>NaN</td>\n",
       "      <td>NaN</td>\n",
       "      <td>NaN</td>\n",
       "      <td>NaN</td>\n",
       "      <td>0.0</td>\n",
       "      <td>0.0</td>\n",
       "      <td>VFV46470.1:VFV46472.1:VFV46471.1</td>\n",
       "    </tr>\n",
       "    <tr>\n",
       "      <td>3407</td>\n",
       "      <td>VKGEYDVTVPK</td>\n",
       "      <td>NaN</td>\n",
       "      <td>NaN</td>\n",
       "      <td>NaN</td>\n",
       "      <td>NaN</td>\n",
       "      <td>NaN</td>\n",
       "      <td>NaN</td>\n",
       "      <td>6340000.0</td>\n",
       "      <td>1.0</td>\n",
       "      <td>VFV19178.1</td>\n",
       "    </tr>\n",
       "    <tr>\n",
       "      <td>3408</td>\n",
       "      <td>AHGPGLEGGLVGKPAEFTIDTK</td>\n",
       "      <td>NaN</td>\n",
       "      <td>NaN</td>\n",
       "      <td>NaN</td>\n",
       "      <td>NaN</td>\n",
       "      <td>NaN</td>\n",
       "      <td>NaN</td>\n",
       "      <td>1050000.0</td>\n",
       "      <td>1.0</td>\n",
       "      <td>VFV17541.1:VFV17543.1:VFV17540.1:VFV17542.1</td>\n",
       "    </tr>\n",
       "    <tr>\n",
       "      <td>3409</td>\n",
       "      <td>GQGVYLGMPGC(+57.02)LPVYDALAGEFIR</td>\n",
       "      <td>NaN</td>\n",
       "      <td>NaN</td>\n",
       "      <td>NaN</td>\n",
       "      <td>NaN</td>\n",
       "      <td>NaN</td>\n",
       "      <td>NaN</td>\n",
       "      <td>3470000.0</td>\n",
       "      <td>1.0</td>\n",
       "      <td>VFV23786.1</td>\n",
       "    </tr>\n",
       "    <tr>\n",
       "      <td>3410</td>\n",
       "      <td>WDVDDWDNENSSAR</td>\n",
       "      <td>NaN</td>\n",
       "      <td>NaN</td>\n",
       "      <td>NaN</td>\n",
       "      <td>NaN</td>\n",
       "      <td>NaN</td>\n",
       "      <td>NaN</td>\n",
       "      <td>7810000.0</td>\n",
       "      <td>1.0</td>\n",
       "      <td>VFV19099.1</td>\n",
       "    </tr>\n",
       "  </tbody>\n",
       "</table>\n",
       "<p>3411 rows × 10 columns</p>\n",
       "</div>"
      ],
      "text/plain": [
       "                               Peptide  Area Sample 3  #Feature Sample 3  \\\n",
       "0             GLVEPVDVVDNADGTQTVNYVPSR     14800000.0                2.0   \n",
       "1                 NLHQSGFSLSGAQIDDNIPR     21800000.0                2.0   \n",
       "2            LVQDVANNTNEEAGDGTTTATVLAR      7490000.0                2.0   \n",
       "3     GDLENAFLNLVQC(+57.02)IQNKPLYFADR    905000000.0                2.0   \n",
       "4              VGAIPANALDDGQWSQGLISAAR      1750000.0                1.0   \n",
       "...                                ...            ...                ...   \n",
       "3406                          HELVVQAR            NaN                NaN   \n",
       "3407                       VKGEYDVTVPK            NaN                NaN   \n",
       "3408            AHGPGLEGGLVGKPAEFTIDTK            NaN                NaN   \n",
       "3409  GQGVYLGMPGC(+57.02)LPVYDALAGEFIR            NaN                NaN   \n",
       "3410                    WDVDDWDNENSSAR            NaN                NaN   \n",
       "\n",
       "                           Accession_x  Area Sample 4  #Feature Sample 4  \\\n",
       "0     VFV42729.1:VFV42728.1:VFV42730.1   8.330000e+07                2.0   \n",
       "1                VFV40282.1:VFV40281.1   9.020000e+06                1.0   \n",
       "2              NP_002147.2:NP_955472.1   1.800000e+07                2.0   \n",
       "3                           VFV25874.1   5.220000e+09                2.0   \n",
       "4                           VFV44382.1   5.930000e+06                1.0   \n",
       "...                                ...            ...                ...   \n",
       "3406                               NaN            NaN                NaN   \n",
       "3407                               NaN            NaN                NaN   \n",
       "3408                               NaN            NaN                NaN   \n",
       "3409                               NaN            NaN                NaN   \n",
       "3410                               NaN            NaN                NaN   \n",
       "\n",
       "                  Accession_y  Area Sample 5  #Feature Sample 5  \\\n",
       "0       VFV42729.1:VFV42728.1    104000000.0                2.0   \n",
       "1       VFV40282.1:VFV40281.1     10700000.0                1.0   \n",
       "2     NP_002147.2:NP_955472.1     40000000.0                2.0   \n",
       "3                  VFV25874.1    346000000.0                2.0   \n",
       "4                  VFV44382.1      9730000.0                1.0   \n",
       "...                       ...            ...                ...   \n",
       "3406                      NaN            0.0                0.0   \n",
       "3407                      NaN      6340000.0                1.0   \n",
       "3408                      NaN      1050000.0                1.0   \n",
       "3409                      NaN      3470000.0                1.0   \n",
       "3410                      NaN      7810000.0                1.0   \n",
       "\n",
       "                                        Accession  \n",
       "0                           VFV42729.1:VFV42728.1  \n",
       "1                           VFV40282.1:VFV40281.1  \n",
       "2                         NP_002147.2:NP_955472.1  \n",
       "3                                      VFV25874.1  \n",
       "4                                      VFV44382.1  \n",
       "...                                           ...  \n",
       "3406             VFV46470.1:VFV46472.1:VFV46471.1  \n",
       "3407                                   VFV19178.1  \n",
       "3408  VFV17541.1:VFV17543.1:VFV17540.1:VFV17542.1  \n",
       "3409                                   VFV23786.1  \n",
       "3410                                   VFV19099.1  \n",
       "\n",
       "[3411 rows x 10 columns]"
      ]
     },
     "execution_count": 60,
     "metadata": {},
     "output_type": "execute_result"
    }
   ],
   "source": [
    "df_final\n"
   ]
  },
  {
   "cell_type": "markdown",
   "metadata": {},
   "source": [
    "## 1% FDR for Multiconsensus"
   ]
  },
  {
   "cell_type": "code",
   "execution_count": 16,
   "metadata": {},
   "outputs": [
    {
     "name": "stdout",
     "output_type": "stream",
     "text": [
      "C:\\Users\\rmagni\\Desktop\\GMU\\ASSIP_2020\\Lung Cancer Microbiome Uniprot DB Results\\For Ruben\\PEAKS_DB_1_FDR_PEPTIDES_csv_ONLY\n"
     ]
    }
   ],
   "source": [
    "cd C:\\Users\\rmagni\\Desktop\\GMU\\ASSIP_2020\\Lung Cancer Microbiome Uniprot DB Results\\For Ruben\\PEAKS_DB_1_FDR_PEPTIDES_csv_ONLY"
   ]
  },
  {
   "cell_type": "code",
   "execution_count": 43,
   "metadata": {},
   "outputs": [],
   "source": [
    "pd1 = pd.read_csv('peptide_Sample_6D_1%_FDR.csv')\n",
    "pd2 = pd.read_csv('peptide_Sample_6T _1% _FDR.csv')\n",
    "pd3 = pd.read_csv('peptide_Sample_7D_1%_FDR.csv')\n",
    "pd4 = pd.read_csv('peptide_Sample_7T_1%_FDR.csv')\n",
    "pd5 = pd.read_csv('peptide_Sample_8D_1%_FDR.csv')\n",
    "pd6 = pd.read_csv('peptide_Sample_8T_1%_FDR.csv')\n",
    "pd7 = pd.read_csv('peptide_Sample_10D_1%_FDR.csv')\n",
    "pd8 = pd.read_csv('peptide_Sample_10T_1%_FDR.csv')\n",
    "pd9 = pd.read_csv('peptide_Sample_11D_1%_FDR.csv')\n",
    "pd10 = pd.read_csv('peptide_Sample_11T_1%_FDR.csv')"
   ]
  },
  {
   "cell_type": "code",
   "execution_count": 44,
   "metadata": {},
   "outputs": [],
   "source": [
    "list_d = [pd1, pd2, pd3, pd4, pd5, pd6, pd7, pd8, pd9, pd10]"
   ]
  },
  {
   "cell_type": "code",
   "execution_count": 45,
   "metadata": {},
   "outputs": [],
   "source": [
    "def clean_db(list_):\n",
    "    list_db = []\n",
    "    for db_ in list_:\n",
    "        db_ = db_.iloc[:,[0, 7, 13]]\n",
    "        list_db.append(db_)\n",
    "    return list_db"
   ]
  },
  {
   "cell_type": "code",
   "execution_count": 46,
   "metadata": {},
   "outputs": [],
   "source": [
    "cleaned_result = clean_db(list_d)"
   ]
  },
  {
   "cell_type": "code",
   "execution_count": 47,
   "metadata": {},
   "outputs": [],
   "source": [
    "merged_result = merging_db(cleaned_result)"
   ]
  },
  {
   "cell_type": "code",
   "execution_count": 48,
   "metadata": {},
   "outputs": [
    {
     "data": {
      "text/plain": [
       "Index(['Peptide', 'Area Sample 6D', 'Accession_x', 'Area Sample 6T',\n",
       "       'Accession_y', 'Area Sample 7D', 'Accession_x', 'Area Sample 7T',\n",
       "       'Accession_y', 'Area Sample 8D', 'Accession_x', 'Area Sample 8T',\n",
       "       'Accession_y', 'Area Sample 10D', 'Accession_x', 'Area Sample 10T',\n",
       "       'Accession_y', 'Area Sample 11D', 'Accession_x', 'Area Sample 11T',\n",
       "       'Accession_y'],\n",
       "      dtype='object')"
      ]
     },
     "execution_count": 48,
     "metadata": {},
     "output_type": "execute_result"
    }
   ],
   "source": [
    "merged_result.columns"
   ]
  },
  {
   "cell_type": "code",
   "execution_count": 49,
   "metadata": {},
   "outputs": [
    {
     "ename": "PermissionError",
     "evalue": "[Errno 13] Permission denied: 'multiconsensus.csv'",
     "output_type": "error",
     "traceback": [
      "\u001b[1;31m---------------------------------------------------------------------------\u001b[0m",
      "\u001b[1;31mPermissionError\u001b[0m                           Traceback (most recent call last)",
      "\u001b[1;32m<ipython-input-49-01d17e0e19dd>\u001b[0m in \u001b[0;36m<module>\u001b[1;34m\u001b[0m\n\u001b[1;32m----> 1\u001b[1;33m \u001b[0mmerged_result\u001b[0m\u001b[1;33m.\u001b[0m\u001b[0mto_csv\u001b[0m\u001b[1;33m(\u001b[0m\u001b[1;34m\"multiconsensus.csv\"\u001b[0m\u001b[1;33m)\u001b[0m\u001b[1;33m\u001b[0m\u001b[1;33m\u001b[0m\u001b[0m\n\u001b[0m",
      "\u001b[1;32m~\\AppData\\anaconda3\\lib\\site-packages\\pandas\\core\\generic.py\u001b[0m in \u001b[0;36mto_csv\u001b[1;34m(self, path_or_buf, sep, na_rep, float_format, columns, header, index, index_label, mode, encoding, compression, quoting, quotechar, line_terminator, chunksize, date_format, doublequote, escapechar, decimal)\u001b[0m\n\u001b[0;32m   3226\u001b[0m             \u001b[0mdecimal\u001b[0m\u001b[1;33m=\u001b[0m\u001b[0mdecimal\u001b[0m\u001b[1;33m,\u001b[0m\u001b[1;33m\u001b[0m\u001b[1;33m\u001b[0m\u001b[0m\n\u001b[0;32m   3227\u001b[0m         )\n\u001b[1;32m-> 3228\u001b[1;33m         \u001b[0mformatter\u001b[0m\u001b[1;33m.\u001b[0m\u001b[0msave\u001b[0m\u001b[1;33m(\u001b[0m\u001b[1;33m)\u001b[0m\u001b[1;33m\u001b[0m\u001b[1;33m\u001b[0m\u001b[0m\n\u001b[0m\u001b[0;32m   3229\u001b[0m \u001b[1;33m\u001b[0m\u001b[0m\n\u001b[0;32m   3230\u001b[0m         \u001b[1;32mif\u001b[0m \u001b[0mpath_or_buf\u001b[0m \u001b[1;32mis\u001b[0m \u001b[1;32mNone\u001b[0m\u001b[1;33m:\u001b[0m\u001b[1;33m\u001b[0m\u001b[1;33m\u001b[0m\u001b[0m\n",
      "\u001b[1;32m~\\AppData\\anaconda3\\lib\\site-packages\\pandas\\io\\formats\\csvs.py\u001b[0m in \u001b[0;36msave\u001b[1;34m(self)\u001b[0m\n\u001b[0;32m    181\u001b[0m                 \u001b[0mself\u001b[0m\u001b[1;33m.\u001b[0m\u001b[0mmode\u001b[0m\u001b[1;33m,\u001b[0m\u001b[1;33m\u001b[0m\u001b[1;33m\u001b[0m\u001b[0m\n\u001b[0;32m    182\u001b[0m                 \u001b[0mencoding\u001b[0m\u001b[1;33m=\u001b[0m\u001b[0mself\u001b[0m\u001b[1;33m.\u001b[0m\u001b[0mencoding\u001b[0m\u001b[1;33m,\u001b[0m\u001b[1;33m\u001b[0m\u001b[1;33m\u001b[0m\u001b[0m\n\u001b[1;32m--> 183\u001b[1;33m                 \u001b[0mcompression\u001b[0m\u001b[1;33m=\u001b[0m\u001b[0mself\u001b[0m\u001b[1;33m.\u001b[0m\u001b[0mcompression\u001b[0m\u001b[1;33m,\u001b[0m\u001b[1;33m\u001b[0m\u001b[1;33m\u001b[0m\u001b[0m\n\u001b[0m\u001b[0;32m    184\u001b[0m             )\n\u001b[0;32m    185\u001b[0m             \u001b[0mclose\u001b[0m \u001b[1;33m=\u001b[0m \u001b[1;32mTrue\u001b[0m\u001b[1;33m\u001b[0m\u001b[1;33m\u001b[0m\u001b[0m\n",
      "\u001b[1;32m~\\AppData\\anaconda3\\lib\\site-packages\\pandas\\io\\common.py\u001b[0m in \u001b[0;36m_get_handle\u001b[1;34m(path_or_buf, mode, encoding, compression, memory_map, is_text)\u001b[0m\n\u001b[0;32m    397\u001b[0m         \u001b[1;32mif\u001b[0m \u001b[0mencoding\u001b[0m\u001b[1;33m:\u001b[0m\u001b[1;33m\u001b[0m\u001b[1;33m\u001b[0m\u001b[0m\n\u001b[0;32m    398\u001b[0m             \u001b[1;31m# Encoding\u001b[0m\u001b[1;33m\u001b[0m\u001b[1;33m\u001b[0m\u001b[1;33m\u001b[0m\u001b[0m\n\u001b[1;32m--> 399\u001b[1;33m             \u001b[0mf\u001b[0m \u001b[1;33m=\u001b[0m \u001b[0mopen\u001b[0m\u001b[1;33m(\u001b[0m\u001b[0mpath_or_buf\u001b[0m\u001b[1;33m,\u001b[0m \u001b[0mmode\u001b[0m\u001b[1;33m,\u001b[0m \u001b[0mencoding\u001b[0m\u001b[1;33m=\u001b[0m\u001b[0mencoding\u001b[0m\u001b[1;33m,\u001b[0m \u001b[0mnewline\u001b[0m\u001b[1;33m=\u001b[0m\u001b[1;34m\"\"\u001b[0m\u001b[1;33m)\u001b[0m\u001b[1;33m\u001b[0m\u001b[1;33m\u001b[0m\u001b[0m\n\u001b[0m\u001b[0;32m    400\u001b[0m         \u001b[1;32melif\u001b[0m \u001b[0mis_text\u001b[0m\u001b[1;33m:\u001b[0m\u001b[1;33m\u001b[0m\u001b[1;33m\u001b[0m\u001b[0m\n\u001b[0;32m    401\u001b[0m             \u001b[1;31m# No explicit encoding\u001b[0m\u001b[1;33m\u001b[0m\u001b[1;33m\u001b[0m\u001b[1;33m\u001b[0m\u001b[0m\n",
      "\u001b[1;31mPermissionError\u001b[0m: [Errno 13] Permission denied: 'multiconsensus.csv'"
     ]
    }
   ],
   "source": [
    "merged_result.to_csv(\"multiconsensus.csv\")"
   ]
  },
  {
   "cell_type": "code",
   "execution_count": 53,
   "metadata": {},
   "outputs": [],
   "source": [
    "def merging_db_2(list_db):\n",
    "    df = list_db[0]\n",
    "    for df_ in list_db[1:]:\n",
    "        df = df.merge(df_, on = ['Peptide', 'Accession'] , how='outer')\n",
    "    df = df.drop_duplicates('Peptide')\n",
    "    return df"
   ]
  },
  {
   "cell_type": "code",
   "execution_count": 54,
   "metadata": {},
   "outputs": [],
   "source": [
    "merged_result_2 = merging_db_2(cleaned_result)"
   ]
  },
  {
   "cell_type": "code",
   "execution_count": 56,
   "metadata": {},
   "outputs": [],
   "source": [
    "merged_result_2.to_csv(\"multiconsensus_fdr_1.csv\")"
   ]
  },
  {
   "cell_type": "markdown",
   "metadata": {},
   "source": [
    "## 5% FDR Multiconsensus"
   ]
  },
  {
   "cell_type": "code",
   "execution_count": 57,
   "metadata": {},
   "outputs": [
    {
     "name": "stdout",
     "output_type": "stream",
     "text": [
      "C:\\Users\\rmagni\\Desktop\\GMU\\ASSIP_2020\\Lung Cancer Microbiome Uniprot DB Results\\For Ruben\\PEAKS_DB_5_FDR_PEPTIDES_csv_ONLY\n"
     ]
    }
   ],
   "source": [
    "cd C:\\Users\\rmagni\\Desktop\\GMU\\ASSIP_2020\\Lung Cancer Microbiome Uniprot DB Results\\For Ruben\\PEAKS_DB_5_FDR_PEPTIDES_csv_ONLY"
   ]
  },
  {
   "cell_type": "code",
   "execution_count": 68,
   "metadata": {},
   "outputs": [],
   "source": [
    "pd11 = pd.read_csv('peptide_Sample_6D_5%_FDR.csv')\n",
    "pd12 = pd.read_csv('peptide_Sample_6T _5% _FDR.csv')\n",
    "pd13 = pd.read_csv('peptide_Sample_7D_5%_FDR.csv')\n",
    "pd14 = pd.read_csv('peptide_Sample_7T_5%_FDR.csv')\n",
    "pd15 = pd.read_csv('peptide_Sample_8D_5%_FDR.csv')\n",
    "pd16 = pd.read_csv('peptide_Sample_8T_5%_FDR.csv')\n",
    "pd17 = pd.read_csv('peptide_Sample_10D_5%_FDR.csv')\n",
    "pd18 = pd.read_csv('peptide_Sample_10T_5%_FDR.csv')\n",
    "pd19 = pd.read_csv('peptide_Sample_11D_5%_FDR.csv')\n",
    "pd20 = pd.read_csv('peptide_Sample_11T_5%_FDR.csv')"
   ]
  },
  {
   "cell_type": "code",
   "execution_count": 69,
   "metadata": {},
   "outputs": [],
   "source": [
    "list_d = [pd11, pd12, pd13, pd14, pd15, pd16, pd17, pd18, pd19, pd20]"
   ]
  },
  {
   "cell_type": "code",
   "execution_count": 70,
   "metadata": {},
   "outputs": [],
   "source": [
    "cleaned_result_2 = clean_db(list_d)"
   ]
  },
  {
   "cell_type": "code",
   "execution_count": 71,
   "metadata": {},
   "outputs": [],
   "source": [
    "merged_result_2 = merging_db_2(cleaned_result_2)"
   ]
  },
  {
   "cell_type": "code",
   "execution_count": 72,
   "metadata": {},
   "outputs": [
    {
     "data": {
      "text/plain": [
       "Index(['Peptide', 'Area Sample 6D', 'Accession', 'Area Sample 6T',\n",
       "       'Area Sample 7D', 'Area Sample 7T', 'Area Sample 8D', 'Area Sample 8T',\n",
       "       'Area Sample 10D', 'Area Sample 10T', 'Area Sample 11D',\n",
       "       'Area Sample 11T'],\n",
       "      dtype='object')"
      ]
     },
     "execution_count": 72,
     "metadata": {},
     "output_type": "execute_result"
    }
   ],
   "source": [
    "merged_result_2.columns"
   ]
  },
  {
   "cell_type": "code",
   "execution_count": 73,
   "metadata": {},
   "outputs": [],
   "source": [
    "merged_result_2.to_csv(\"multiconsensus_fdr_5.csv\")"
   ]
  },
  {
   "cell_type": "markdown",
   "metadata": {},
   "source": [
    "## 1% FDR Proteins"
   ]
  },
  {
   "cell_type": "code",
   "execution_count": 111,
   "metadata": {},
   "outputs": [
    {
     "name": "stdout",
     "output_type": "stream",
     "text": [
      "C:\\Users\\rmagni\\Desktop\\GMU\\ASSIP_2020\\Lung Cancer Microbiome Uniprot DB Results\\For Ruben\\others\n"
     ]
    }
   ],
   "source": [
    "cd C:\\Users\\rmagni\\Desktop\\GMU\\ASSIP_2020\\Lung Cancer Microbiome Uniprot DB Results\\For Ruben\\others"
   ]
  },
  {
   "cell_type": "code",
   "execution_count": 112,
   "metadata": {},
   "outputs": [],
   "source": [
    "pd1 = pd.read_csv('proteins_Sample_6D_1%_FDR.csv')\n",
    "pd2 = pd.read_csv('proteins_Sample_6T _1% _FDR.csv')\n",
    "pd3 = pd.read_csv('proteins_Sample_7D_1%_FDR.csv')\n",
    "pd4 = pd.read_csv('proteins_Sample_7T_1%_FDR.csv')\n",
    "pd5 = pd.read_csv('proteins_Sample_8D_1%_FDR.csv')\n",
    "pd6 = pd.read_csv('proteins_Sample _8T_1%_FDR.csv')\n",
    "pd7 = pd.read_csv('proteins_Sample_10D_1%_FDR.csv')\n",
    "pd8 = pd.read_csv('proteins_Sample_10T_1%_FDR.csv')\n",
    "pd9 = pd.read_csv('proteins_Sample_11D_1%_FDR.csv')\n",
    "pd10 = pd.read_csv('proteins_Sample_11T_1%_FDR.csv')"
   ]
  },
  {
   "cell_type": "code",
   "execution_count": 113,
   "metadata": {},
   "outputs": [],
   "source": [
    "list_d = [pd1, pd2, pd3, pd4, pd5, pd6, pd7, pd8, pd9, pd10]"
   ]
  },
  {
   "cell_type": "code",
   "execution_count": 114,
   "metadata": {},
   "outputs": [],
   "source": [
    "def clean_db_prot(list_):\n",
    "    list_db = []\n",
    "    for db_ in list_:\n",
    "        db_ = db_.iloc[:,[2, 6, 12]]\n",
    "        list_db.append(db_)\n",
    "    return list_db"
   ]
  },
  {
   "cell_type": "code",
   "execution_count": 115,
   "metadata": {},
   "outputs": [],
   "source": [
    "cleaned_result_prot_1 = clean_db_prot(list_d)"
   ]
  },
  {
   "cell_type": "code",
   "execution_count": 116,
   "metadata": {},
   "outputs": [],
   "source": [
    "def merging_db_prot(list_db):\n",
    "    df = list_db[0]\n",
    "    for df_ in list_db[1:]:\n",
    "        df = df.merge(df_, on = ['Accession', 'Description'] , how='outer')\n",
    "    return df"
   ]
  },
  {
   "cell_type": "code",
   "execution_count": 117,
   "metadata": {},
   "outputs": [],
   "source": [
    "merged_result_prot_1 = merging_db_prot(cleaned_result_prot_1)"
   ]
  },
  {
   "cell_type": "code",
   "execution_count": 118,
   "metadata": {},
   "outputs": [],
   "source": [
    "merged_result_prot_1.to_csv(\"multiconsensus_prot_fdr_1.csv\")"
   ]
  },
  {
   "cell_type": "markdown",
   "metadata": {},
   "source": [
    "## 5% FDR Proteins"
   ]
  },
  {
   "cell_type": "code",
   "execution_count": 119,
   "metadata": {},
   "outputs": [],
   "source": [
    "pd11 = pd.read_csv('proteins_Sample_6D_5%_FDR.csv')\n",
    "pd12 = pd.read_csv('proteins_Sample_6T _5% _FDR.csv')\n",
    "pd13 = pd.read_csv('proteins_Sample_7D_5%_FDR.csv')\n",
    "pd14 = pd.read_csv('proteins_Sample_7T_5%_FDR.csv')\n",
    "pd15 = pd.read_csv('proteins_Sample_8D_5%_FDR.csv')\n",
    "pd16 = pd.read_csv('proteins_Sample_8T_5%_FDR.csv')\n",
    "pd17 = pd.read_csv('proteins_Sample_10D_5%_FDR.csv')\n",
    "pd18 = pd.read_csv('proteins_Sample_10T_5%_FDR.csv')\n",
    "pd19 = pd.read_csv('proteins_Sample_11D_5%_FDR.csv')\n",
    "pd20 = pd.read_csv('proteins_Sample_11T_5%_FDR.csv')"
   ]
  },
  {
   "cell_type": "code",
   "execution_count": 120,
   "metadata": {},
   "outputs": [],
   "source": [
    "list_d = [pd11, pd12, pd13, pd14, pd15, pd16, pd17, pd18, pd19, pd20]"
   ]
  },
  {
   "cell_type": "code",
   "execution_count": 121,
   "metadata": {},
   "outputs": [],
   "source": [
    "cleaned_result_prot_5 = clean_db_prot(list_d)"
   ]
  },
  {
   "cell_type": "code",
   "execution_count": 122,
   "metadata": {},
   "outputs": [],
   "source": [
    "merged_result_prot_5 = merging_db_prot(cleaned_result_prot_5)"
   ]
  },
  {
   "cell_type": "code",
   "execution_count": 123,
   "metadata": {},
   "outputs": [],
   "source": [
    "merged_result_prot_5.to_csv(\"multiconsensus_prot_fdr_5.csv\")"
   ]
  },
  {
   "cell_type": "code",
   "execution_count": null,
   "metadata": {},
   "outputs": [],
   "source": []
  }
 ],
 "metadata": {
  "kernelspec": {
   "display_name": "Python 3",
   "language": "python",
   "name": "python3"
  },
  "language_info": {
   "codemirror_mode": {
    "name": "ipython",
    "version": 3
   },
   "file_extension": ".py",
   "mimetype": "text/x-python",
   "name": "python",
   "nbconvert_exporter": "python",
   "pygments_lexer": "ipython3",
   "version": "3.7.4"
  }
 },
 "nbformat": 4,
 "nbformat_minor": 2
}
